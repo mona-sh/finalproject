{
  "nbformat": 4,
  "nbformat_minor": 0,
  "metadata": {
    "colab": {
      "provenance": [],
      "authorship_tag": "ABX9TyOvN4FRfRFWPaM3xlorlS3n",
      "include_colab_link": true
    },
    "kernelspec": {
      "name": "python3",
      "display_name": "Python 3"
    },
    "language_info": {
      "name": "python"
    }
  },
  "cells": [
    {
      "cell_type": "markdown",
      "metadata": {
        "id": "view-in-github",
        "colab_type": "text"
      },
      "source": [
        "<a href=\"https://colab.research.google.com/github/mona-sh/finalproject/blob/main/finalproject.ipynb\" target=\"_parent\"><img src=\"https://colab.research.google.com/assets/colab-badge.svg\" alt=\"Open In Colab\"/></a>"
      ]
    },
    {
      "cell_type": "code",
      "execution_count": null,
      "metadata": {
        "id": "x_dJd6EkABJu"
      },
      "outputs": [],
      "source": [
        "#imports several Python libraries\n",
        "import numpy as np\n",
        "import pandas as pd\n",
        "import seaborn as sns\n",
        "from matplotlib import pyplot as plt"
      ]
    },
    {
      "cell_type": "code",
      "source": [
        "#module for prediction and evaluation\n",
        "from sklearn.model_selection import train_test_split\n",
        "from sklearn.linear_model import LinearRegression\n",
        "from sklearn.model_selection import cross_val_score\n",
        "from sklearn.metrics import mean_squared_error\n",
        "from sklearn import metrics\n"
      ],
      "metadata": {
        "id": "MPZ0aVOJAzmj"
      },
      "execution_count": null,
      "outputs": []
    },
    {
      "cell_type": "code",
      "source": [
        "#read dataset\n",
        "dataset_path=\"/content/dataset/Salary Data.csv\"\n",
        "delimiter=\";\"\n",
        "dataset = pd.read_csv(dataset_path)\n",
        "df=dataset.copy()\n",
        "df"
      ],
      "metadata": {
        "id": "6Vg3WKO4Azpr"
      },
      "execution_count": null,
      "outputs": []
    },
    {
      "cell_type": "code",
      "source": [
        "classe=\"Salary\"\n"
      ],
      "metadata": {
        "id": "s1KE8DKuAzst"
      },
      "execution_count": null,
      "outputs": []
    },
    {
      "cell_type": "code",
      "source": [
        "#Summary\n",
        "df.info()"
      ],
      "metadata": {
        "id": "atzh2PBCAzv3"
      },
      "execution_count": null,
      "outputs": []
    },
    {
      "cell_type": "code",
      "source": [
        "#observation of the dataset and filling of the NANSobservation of the dataset and filling of the NANS\n",
        "#generate descriptive statistics\n",
        "df.describe()"
      ],
      "metadata": {
        "id": "oinJQInbAz41"
      },
      "execution_count": null,
      "outputs": []
    },
    {
      "cell_type": "code",
      "source": [
        "#numeric (quantitative) columns\n",
        "for col in df.select_dtypes(include=[\"float\", \"int\"]):\n",
        "    print(col)\n",
        "    print(f\"Mean with NaN: {df[col].mean()}\")\n",
        "    print(f\"Mean without NaN: {df[col].mean(skipna=True)}\")"
      ],
      "metadata": {
        "id": "T-iJPlxJijaw"
      },
      "execution_count": null,
      "outputs": []
    },
    {
      "cell_type": "code",
      "source": [
        "#object columns (Qualitative)\n",
        "for col in df.select_dtypes(include=[\"object\"]):\n",
        "    print(col)\n",
        "    print(f\"Most frequent with NaN: {df[col].mode()[0]}\")\n",
        "    print(f\"Most frequent without NaN: {df[col].value_counts().idxmax()}\")"
      ],
      "metadata": {
        "id": "D8NsJhP6ijl3"
      },
      "execution_count": null,
      "outputs": []
    },
    {
      "cell_type": "code",
      "source": [
        "#so the nans change nothing in the object columns we replace the nans in df by the average without nan for numerics by the most frequent in objects\n",
        "# Iterate over each column in the DataFrame\n",
        "for col in df.columns:\n",
        "    # Check if the column is of object type\n",
        "    if col in df.select_dtypes(include=['object']).columns:\n",
        "        # If it is an object column, fill missing values with the mode\n",
        "        df[col] = df[col].fillna(df[col].dropna().mode()[0])\n",
        "        # Print the column name and the count of remaining missing values\n",
        "        print(col, df[col].isna().sum())\n",
        "    else:\n",
        "        # If it is not an object column, fill missing values with the mean\n",
        "        df[col] = df[col].fillna(df[col].mean(skipna=True))\n",
        "        # Print the column name and the count of remaining missing values\n",
        "        print(col, df[col].isna().sum())"
      ],
      "metadata": {
        "colab": {
          "base_uri": "https://localhost:8080/"
        },
        "id": "yG3hfZsBA0IY",
        "outputId": "3771d64c-840d-4010-d91c-a481fab9a64b"
      },
      "execution_count": null,
      "outputs": [
        {
          "output_type": "stream",
          "name": "stdout",
          "text": [
            "Age 0\n",
            "Gender 0\n",
            "Education Level 0\n",
            "Job Title 0\n",
            "Years of Experience 0\n",
            "Salary 0\n"
          ]
        }
      ]
    },
    {
      "cell_type": "code",
      "source": [
        "#get numbers form objects\n",
        "for col in df.select_dtypes('object'):\n",
        "    print(col,'-------->')\n",
        "    print(df[col].value_counts().reset_index())\n",
        "    print()\n",
        "    print()\n"
      ],
      "metadata": {
        "colab": {
          "base_uri": "https://localhost:8080/"
        },
        "id": "MMpLBedzA0L1",
        "outputId": "90e267f8-130e-4997-d4ec-24e6efd51b94"
      },
      "execution_count": null,
      "outputs": [
        {
          "output_type": "stream",
          "name": "stdout",
          "text": [
            "Gender -------->\n",
            "    index  Gender\n",
            "0    Male     196\n",
            "1  Female     179\n",
            "\n",
            "\n",
            "Education Level -------->\n",
            "        index  Education Level\n",
            "0  Bachelor's              226\n",
            "1    Master's               98\n",
            "2         PhD               51\n",
            "\n",
            "\n",
            "Job Title -------->\n",
            "                               index  Job Title\n",
            "0              Director of Marketing         14\n",
            "1             Director of Operations         11\n",
            "2            Senior Business Analyst         10\n",
            "3           Senior Marketing Analyst          9\n",
            "4           Senior Marketing Manager          9\n",
            "..                               ...        ...\n",
            "169     Business Development Manager          1\n",
            "170  Customer Service Representative          1\n",
            "171                       IT Manager          1\n",
            "172        Digital Marketing Manager          1\n",
            "173             Junior Web Developer          1\n",
            "\n",
            "[174 rows x 2 columns]\n",
            "\n",
            "\n"
          ]
        }
      ]
    },
    {
      "cell_type": "code",
      "source": [
        "#class table\n",
        "for col in df.select_dtypes(\"object\"):\n",
        "    print(f'{col}-------->{sorted(df[col].unique())}')"
      ],
      "metadata": {
        "colab": {
          "base_uri": "https://localhost:8080/"
        },
        "id": "-bSpypVFA0TK",
        "outputId": "28614db1-289e-4e0a-9390-f629217e7300"
      },
      "execution_count": null,
      "outputs": [
        {
          "output_type": "stream",
          "name": "stdout",
          "text": [
            "Job Title-------->['Account Manager', 'Accountant', 'Administrative Assistant', 'Business Analyst', 'Business Development Manager', 'Business Intelligence Analyst', 'CEO', 'Chief Data Officer', 'Chief Technology Officer', 'Content Marketing Manager', 'Copywriter', 'Creative Director', 'Customer Service Manager', 'Customer Service Rep', 'Customer Service Representative', 'Customer Success Manager', 'Customer Success Rep', 'Data Analyst', 'Data Entry Clerk', 'Data Scientist', 'Digital Content Producer', 'Digital Marketing Manager', 'Director', 'Director of Business Development', 'Director of Engineering', 'Director of Finance', 'Director of HR', 'Director of Human Capital', 'Director of Human Resources', 'Director of Marketing', 'Director of Operations', 'Director of Product Management', 'Director of Sales', 'Director of Sales and Marketing', 'Event Coordinator', 'Financial Advisor', 'Financial Analyst', 'Financial Manager', 'Graphic Designer', 'HR Generalist', 'HR Manager', 'Help Desk Analyst', 'Human Resources Director', 'IT Manager', 'IT Support', 'IT Support Specialist', 'Junior Account Manager', 'Junior Accountant', 'Junior Advertising Coordinator', 'Junior Business Analyst', 'Junior Business Development Associate', 'Junior Business Operations Analyst', 'Junior Copywriter', 'Junior Customer Support Specialist', 'Junior Data Analyst', 'Junior Data Scientist', 'Junior Designer', 'Junior Developer', 'Junior Financial Advisor', 'Junior Financial Analyst', 'Junior HR Coordinator', 'Junior HR Generalist', 'Junior Marketing Analyst', 'Junior Marketing Coordinator', 'Junior Marketing Manager', 'Junior Marketing Specialist', 'Junior Operations Analyst', 'Junior Operations Coordinator', 'Junior Operations Manager', 'Junior Product Manager', 'Junior Project Manager', 'Junior Recruiter', 'Junior Research Scientist', 'Junior Sales Representative', 'Junior Social Media Manager', 'Junior Social Media Specialist', 'Junior Software Developer', 'Junior Software Engineer', 'Junior UX Designer', 'Junior Web Designer', 'Junior Web Developer', 'Marketing Analyst', 'Marketing Coordinator', 'Marketing Manager', 'Marketing Specialist', 'Network Engineer', 'Office Manager', 'Operations Analyst', 'Operations Director', 'Operations Manager', 'Principal Engineer', 'Principal Scientist', 'Product Designer', 'Product Manager', 'Product Marketing Manager', 'Project Engineer', 'Project Manager', 'Public Relations Manager', 'Recruiter', 'Research Director', 'Research Scientist', 'Sales Associate', 'Sales Director', 'Sales Executive', 'Sales Manager', 'Sales Operations Manager', 'Sales Representative', 'Senior Account Executive', 'Senior Account Manager', 'Senior Accountant', 'Senior Business Analyst', 'Senior Business Development Manager', 'Senior Consultant', 'Senior Data Analyst', 'Senior Data Engineer', 'Senior Data Scientist', 'Senior Engineer', 'Senior Financial Advisor', 'Senior Financial Analyst', 'Senior Financial Manager', 'Senior Graphic Designer', 'Senior HR Generalist', 'Senior HR Manager', 'Senior HR Specialist', 'Senior Human Resources Coordinator', 'Senior Human Resources Manager', 'Senior Human Resources Specialist', 'Senior IT Consultant', 'Senior IT Project Manager', 'Senior IT Support Specialist', 'Senior Manager', 'Senior Marketing Analyst', 'Senior Marketing Coordinator', 'Senior Marketing Director', 'Senior Marketing Manager', 'Senior Marketing Specialist', 'Senior Operations Analyst', 'Senior Operations Coordinator', 'Senior Operations Manager', 'Senior Product Designer', 'Senior Product Development Manager', 'Senior Product Manager', 'Senior Product Marketing Manager', 'Senior Project Coordinator', 'Senior Project Manager', 'Senior Quality Assurance Analyst', 'Senior Research Scientist', 'Senior Researcher', 'Senior Sales Manager', 'Senior Sales Representative', 'Senior Scientist', 'Senior Software Architect', 'Senior Software Developer', 'Senior Software Engineer', 'Senior Training Specialist', 'Senior UX Designer', 'Social Media Manager', 'Social Media Specialist', 'Software Developer', 'Software Engineer', 'Software Manager', 'Software Project Manager', 'Strategy Consultant', 'Supply Chain Analyst', 'Supply Chain Manager', 'Technical Recruiter', 'Technical Support Specialist', 'Technical Writer', 'Training Specialist', 'UX Designer', 'UX Researcher', 'VP of Finance', 'VP of Operations', 'Web Developer']\n"
          ]
        }
      ]
    },
    {
      "cell_type": "code",
      "source": [
        "hue1=\"Education Level\"\n",
        "hue2=\"Gender\""
      ],
      "metadata": {
        "id": "tlhoYCmZA0WP"
      },
      "execution_count": null,
      "outputs": []
    },
    {
      "cell_type": "code",
      "source": [
        "#begining\n",
        "class_table_count = df.groupby(classe).count().reset_index()\n",
        "class_table_count"
      ],
      "metadata": {
        "id": "XuJj68DOA0Zv"
      },
      "execution_count": null,
      "outputs": []
    },
    {
      "cell_type": "code",
      "source": [
        "class_table_mean = df.groupby(classe).mean().reset_index()\n",
        "class_table_mean"
      ],
      "metadata": {
        "id": "nHYcJaxmA0dd"
      },
      "execution_count": null,
      "outputs": []
    },
    {
      "source": [
        "from matplotlib import pyplot as plt\n",
        "tableau_classe_mean.plot(kind='scatter', x='Age', y='Years of Experience', s=32, alpha=.8)\n",
        "plt.gca().spines[['top', 'right',]].set_visible(False)"
      ],
      "cell_type": "code",
      "metadata": {
        "id": "kLxM2bFVpN68"
      },
      "execution_count": null,
      "outputs": []
    },
    {
      "source": [
        "from matplotlib import pyplot as plt\n",
        "tableau_classe_mean.plot(kind='scatter', x='Years of Experience', y='Salary', s=32, alpha=.8)\n",
        "plt.gca().spines[['top', 'right',]].set_visible(False)"
      ],
      "cell_type": "code",
      "metadata": {
        "id": "U47PhSNipNA2"
      },
      "execution_count": null,
      "outputs": []
    },
    {
      "cell_type": "code",
      "source": [
        "df_summary=df.describe()\n",
        "df_summary"
      ],
      "metadata": {
        "id": "pTBLR2ApA0hR"
      },
      "execution_count": null,
      "outputs": []
    },
    {
      "cell_type": "code",
      "source": [
        "matrice_de_correlation_standarise= df_standariser.corr()\n",
        "matrice_de_correlation_standarise"
      ],
      "metadata": {
        "id": "kaTMQjFeDKdG"
      },
      "execution_count": null,
      "outputs": []
    },
    {
      "cell_type": "code",
      "source": [
        "sns.pairplot(df_standariser,hue=hue1)\n"
      ],
      "metadata": {
        "id": "TeotyfaPDSoD"
      },
      "execution_count": null,
      "outputs": []
    },
    {
      "cell_type": "code",
      "source": [
        "df_standariser_normaliser=df_standariser[(df_standariser[\"Salary\"] < 250000 )& (df_standariser[\"Salary\"]>0)]\n",
        "df_standariser_normaliser"
      ],
      "metadata": {
        "id": "IqXnHjAjDSq1"
      },
      "execution_count": null,
      "outputs": []
    },
    {
      "cell_type": "code",
      "source": [
        "sns.pairplot(df_standariser_normaliser,hue=hue1)\n"
      ],
      "metadata": {
        "id": "8ewIJRLoDSt7"
      },
      "execution_count": null,
      "outputs": []
    },
    {
      "cell_type": "code",
      "source": [
        "import matplotlib.pyplot as plt\n",
        "\n",
        "# Plotting the data\n",
        "plt.scatter(df_standariser_normalise_traite['Years of Experience'], df_standariser_normalise_traite['Salary'])\n",
        "plt.xlabel('Years of Experience')\n",
        "plt.ylabel('Salary')\n",
        "plt.title('Linearity between Years of Experience and Salary')\n",
        "plt.show()"
      ],
      "metadata": {
        "id": "RcvKCLdKSFde"
      },
      "execution_count": null,
      "outputs": []
    },
    {
      "cell_type": "code",
      "source": [
        "def pre_processing(df):\n",
        "    X = df[['Years of Experience']]  # Include only the 'Years of Experience' column as input feature\n",
        "    Y = df['Salary']\n",
        "    return X, Y"
      ],
      "metadata": {
        "id": "w-Fst75xDSwz"
      },
      "execution_count": null,
      "outputs": []
    },
    {
      "cell_type": "code",
      "source": [
        "#spliting test_train\n",
        "\n",
        "#train_set,test_set=train_test_split(df_standariser_normalise_traite,test_size=0.25, random_state=0)\n",
        "#train_set.shape\n",
        "#X, Y = pre_processing(df_standariser_normalise_traite)\n",
        "\n",
        "X, Y = pre_processing(df_standariser_normalise_traite)\n",
        "train_X, test_X, train_Y, test_Y = train_test_split(X, Y, test_size=0.25, random_state=0)\n"
      ],
      "metadata": {
        "id": "jR0vaE9CDS0K"
      },
      "execution_count": null,
      "outputs": []
    },
    {
      "cell_type": "code",
      "source": [
        "X_train ,Y_train = pre_processing(train_set)\n",
        "X_test ,Y_test = pre_processing(test_set)"
      ],
      "metadata": {
        "id": "tcZwclf7EGY9"
      },
      "execution_count": null,
      "outputs": []
    },
    {
      "cell_type": "code",
      "source": [
        "import matplotlib.pyplot as plt\n",
        "\n",
        "def evaluation(model, X_train, Y_train, X_test, Y_test):\n",
        "    model.fit(X_train, Y_train)\n",
        "    Y_pred = model.predict(X_test)\n",
        "    plt.figure(figsize=(10, 10))\n",
        "    plt.scatter(Y_test, Y_pred, s=200, label='Predicted')\n",
        "    plt.plot([min(Y_test), max(Y_test)], [min(Y_test), max(Y_test)], 'r--', label='Ideal')\n",
        "    plt.xlabel('Actual')\n",
        "    plt.ylabel('Predicted')\n",
        "    plt.title('Evaluation')\n",
        "    plt.legend()\n",
        "    plt.show()\n",
        "\n"
      ],
      "metadata": {
        "id": "byqgDq3UTRtR"
      },
      "execution_count": null,
      "outputs": []
    },
    {
      "cell_type": "code",
      "source": [
        "import matplotlib.pyplot as plt\n",
        "from sklearn.linear_model import LinearRegression\n",
        "from sklearn.metrics import mean_squared_error\n",
        "\n",
        "# Define the model\n",
        "model = LinearRegression()\n",
        "\n",
        "# Train the model on your training data\n",
        "model.fit(X_train, Y_train)\n",
        "\n",
        "# Make predictions on the test data\n",
        "Y_pred = model.predict(X_test)\n",
        "\n",
        "# Calculate the root mean squared error (RMSE)\n",
        "rmse = mean_squared_error(Y_test, Y_pred, squared=False)\n",
        "\n",
        "# Create a figure with a custom size\n",
        "plt.figure(figsize=(10, 6))  # Width: 10 inches, Height: 6 inches\n",
        "\n",
        "# Plot a scatter plot of the predicted values\n",
        "plt.scatter(Y_test, Y_pred, s=200, label='Predicted')\n",
        "plt.plot([min(Y_test), max(Y_test)], [min(Y_test), max(Y_test)], 'r--', label='Ideal')\n",
        "plt.xlabel('Actual')\n",
        "plt.ylabel('Predicted')\n",
        "plt.title('Evaluation')\n",
        "plt.legend()\n",
        "\n",
        "# Show the plot\n",
        "plt.show()\n",
        "\n",
        "# Print the result\n",
        "print(\"RMSE:\", rmse)"
      ],
      "metadata": {
        "id": "H9mYOWKCEePK"
      },
      "execution_count": null,
      "outputs": []
    }
  ]
}